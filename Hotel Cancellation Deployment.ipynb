{
 "cells": [
  {
   "cell_type": "code",
   "execution_count": 1,
   "id": "f5cd17ec",
   "metadata": {},
   "outputs": [],
   "source": [
    "import gradio as gr\n",
    "import pickle\n",
    "import warnings\n",
    "warnings.filterwarnings('ignore')"
   ]
  },
  {
   "cell_type": "code",
   "execution_count": 2,
   "id": "df8e0a4a",
   "metadata": {},
   "outputs": [],
   "source": [
    "with open('Final_Model.pkl','rb') as file:\n",
    "    Final_Model=pickle.load(file)"
   ]
  },
  {
   "cell_type": "code",
   "execution_count": 3,
   "id": "fbd8fb12",
   "metadata": {},
   "outputs": [],
   "source": [
    "def Prediction(lead_time, no_of_special_requests,avg_price_per_room,no_of_adults,no_of_weekend_nights,required_car_parking_space,no_of_week_nights,arrival_Day,arrival_Month,arrival_Weekday,market_segment_type_Online):\n",
    "    \n",
    "    input_data=[[lead_time, no_of_special_requests,avg_price_per_room,no_of_adults,no_of_weekend_nights,required_car_parking_space,no_of_week_nights,arrival_Day,arrival_Month,arrival_Weekday,market_segment_type_Online]]\n",
    "    \n",
    "    prob=Final_Model.predict_proba(input_data)[:,1][0]\n",
    "    \n",
    "    if prob>0.36:\n",
    "        return 'This Booking Might Get Canceled'\n",
    "    else:\n",
    "        return 'This Booking Will Not Get Canceled'"
   ]
  },
  {
   "cell_type": "code",
   "execution_count": 4,
   "id": "7f193d60",
   "metadata": {},
   "outputs": [
    {
     "data": {
      "text/plain": [
       "'This Booking Will Not Get Canceled'"
      ]
     },
     "execution_count": 4,
     "metadata": {},
     "output_type": "execute_result"
    }
   ],
   "source": [
    "Prediction(6,0,100,1,2,0,2,4,6,1,1)"
   ]
  },
  {
   "cell_type": "code",
   "execution_count": 5,
   "id": "b626ba8a",
   "metadata": {},
   "outputs": [],
   "source": [
    "iface=gr.Interface(fn=Prediction,inputs=[gr.Number(label='How many prior days booking has been made.'),\n",
    "                                        gr.Dropdown([0,1,2,3,4,5],label='How many special request have been made?'),\n",
    "                                        gr.Number(label='What is the average room price?'),\n",
    "                                        gr.Dropdown([0,1,2,3,4],label='How many adults per room?'),\n",
    "                                        gr.Number(label='How many weekends are there in stay?'),\n",
    "                                        gr.Dropdown([('Yes',1),('No',0)],label='Is parking included in booking?'),\n",
    "                                        gr.Number(label='How many weekdays are there in stay?'),\n",
    "                                        gr.Slider(minimum=1,maximum=31,step=1,label='Enter the day of arrival.'),\n",
    "                                        gr.Slider(minimum=1,maximum=12,step=1,label='Enter the month of arrival.'),\n",
    "                                        gr.Dropdown([('Monday',0),('Tuesday',1),('Wednesday',2),('Thursday',3),('Friday',4),('Saturday',5),('Sunday',6)],label='Weekday of arrival'),\n",
    "                                        gr.Dropdown([('Online',1),('Offline',0)],label='What is the mode of booking?')],\n",
    "                   outputs=gr.Textbox(label='Predicted Booking Status'),\n",
    "                   title='''INN HOTEL's GROUPS''',\n",
    "                   description='This Application Will Forecast Cancellation Of Bookings',\n",
    "                   allow_flagging='never')\n",
    "        "
   ]
  },
  {
   "cell_type": "code",
   "execution_count": 6,
   "id": "7395be63",
   "metadata": {},
   "outputs": [
    {
     "name": "stdout",
     "output_type": "stream",
     "text": [
      "Running on local URL:  http://127.0.0.1:7860\n",
      "\n",
      "To create a public link, set `share=True` in `launch()`.\n"
     ]
    },
    {
     "data": {
      "text/html": [
       "<div><iframe src=\"http://127.0.0.1:7860/\" width=\"100%\" height=\"500\" allow=\"autoplay; camera; microphone; clipboard-read; clipboard-write;\" frameborder=\"0\" allowfullscreen></iframe></div>"
      ],
      "text/plain": [
       "<IPython.core.display.HTML object>"
      ]
     },
     "metadata": {},
     "output_type": "display_data"
    },
    {
     "data": {
      "text/plain": []
     },
     "execution_count": 6,
     "metadata": {},
     "output_type": "execute_result"
    },
    {
     "name": "stdout",
     "output_type": "stream",
     "text": [
      "IMPORTANT: You are using gradio version 4.26.0, however version 4.29.0 is available, please upgrade.\n",
      "--------\n"
     ]
    }
   ],
   "source": [
    "iface.launch()"
   ]
  }
 ],
 "metadata": {
  "kernelspec": {
   "display_name": "Python 3 (ipykernel)",
   "language": "python",
   "name": "python3"
  },
  "language_info": {
   "codemirror_mode": {
    "name": "ipython",
    "version": 3
   },
   "file_extension": ".py",
   "mimetype": "text/x-python",
   "name": "python",
   "nbconvert_exporter": "python",
   "pygments_lexer": "ipython3",
   "version": "3.11.5"
  }
 },
 "nbformat": 4,
 "nbformat_minor": 5
}
